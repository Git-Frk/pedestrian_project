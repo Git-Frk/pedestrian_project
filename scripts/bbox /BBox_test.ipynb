{
 "cells": [
  {
   "cell_type": "code",
   "execution_count": 6,
   "id": "1d5d2a2b",
   "metadata": {},
   "outputs": [],
   "source": [
    "import cv2\n",
    "import json\n",
    "import numpy as np"
   ]
  },
  {
   "cell_type": "code",
   "execution_count": 29,
   "id": "960b19f2",
   "metadata": {},
   "outputs": [],
   "source": [
    "with open('cologne_000022_000019_gtBboxCityPersons.json') as annotations:\n",
    "    bbox = json.load(annotations)"
   ]
  },
  {
   "cell_type": "code",
   "execution_count": 8,
   "id": "ceeb2375",
   "metadata": {},
   "outputs": [],
   "source": [
    "mod_img = cv2.imread('cologne_000022_000019_translated.png')"
   ]
  },
  {
   "cell_type": "code",
   "execution_count": 30,
   "id": "77929cc0",
   "metadata": {},
   "outputs": [],
   "source": [
    "img = cv2.imread('cologne_000022_000019_leftImg8bit.png')"
   ]
  },
  {
   "cell_type": "code",
   "execution_count": 31,
   "id": "586038e7",
   "metadata": {
    "scrolled": false
   },
   "outputs": [
    {
     "data": {
      "text/plain": [
       "{'imgHeight': 1024,\n",
       " 'imgWidth': 2048,\n",
       " 'objects': [{'instanceId': 24000,\n",
       "   'bbox': [928, 408, 51, 123],\n",
       "   'bboxVis': [934, 408, 26, 123],\n",
       "   'label': 'pedestrian'},\n",
       "  {'instanceId': 24001,\n",
       "   'bbox': [937, 411, 50, 122],\n",
       "   'bboxVis': [941, 411, 40, 122],\n",
       "   'label': 'pedestrian'},\n",
       "  {'instanceId': 24002,\n",
       "   'bbox': [986, 426, 40, 99],\n",
       "   'bboxVis': [986, 426, 40, 99],\n",
       "   'label': 'pedestrian'},\n",
       "  {'instanceId': 24003,\n",
       "   'bbox': [1000, 399, 57, 139],\n",
       "   'bboxVis': [1010, 399, 47, 139],\n",
       "   'label': 'pedestrian'},\n",
       "  {'instanceId': 24004,\n",
       "   'bbox': [1139, 403, 45, 111],\n",
       "   'bboxVis': [1145, 403, 39, 111],\n",
       "   'label': 'pedestrian'},\n",
       "  {'instanceId': 24005,\n",
       "   'bbox': [1111, 403, 52, 128],\n",
       "   'bboxVis': [1111, 403, 48, 128],\n",
       "   'label': 'pedestrian'},\n",
       "  {'instanceId': 24006,\n",
       "   'bbox': [1190, 397, 54, 131],\n",
       "   'bboxVis': [1204, 397, 40, 131],\n",
       "   'label': 'pedestrian'},\n",
       "  {'instanceId': 24007,\n",
       "   'bbox': [1182, 407, 51, 123],\n",
       "   'bboxVis': [1186, 407, 41, 123],\n",
       "   'label': 'pedestrian'},\n",
       "  {'instanceId': 24008,\n",
       "   'bbox': [1417, 375, 68, 164],\n",
       "   'bboxVis': [1448, 375, 28, 164],\n",
       "   'label': 'pedestrian'},\n",
       "  {'instanceId': 24009,\n",
       "   'bbox': [1303, 404, 49, 119],\n",
       "   'bboxVis': [1306, 406, 46, 117],\n",
       "   'label': 'pedestrian'},\n",
       "  {'instanceId': 24010,\n",
       "   'bbox': [1861, 415, 44, 108],\n",
       "   'bboxVis': [1862, 415, 38, 74],\n",
       "   'label': 'pedestrian'},\n",
       "  {'instanceId': 24011,\n",
       "   'bbox': [1534, 377, 70, 170],\n",
       "   'bboxVis': [1534, 377, 47, 112],\n",
       "   'label': 'pedestrian'},\n",
       "  {'instanceId': 24012,\n",
       "   'bbox': [453, 417, 56, 134],\n",
       "   'bboxVis': [453, 417, 56, 134],\n",
       "   'label': 'pedestrian'},\n",
       "  {'instanceId': 25000,\n",
       "   'bbox': [386, 407, 53, 130],\n",
       "   'bboxVis': [415, 407, 24, 77],\n",
       "   'label': 'rider'},\n",
       "  {'instanceId': 25001,\n",
       "   'bbox': [856, 390, 65, 161],\n",
       "   'bboxVis': [856, 391, 65, 160],\n",
       "   'label': 'rider'},\n",
       "  {'instanceId': 0,\n",
       "   'bbox': [1512, 381, 15, 21],\n",
       "   'bboxVis': [1512, 381, 15, 21],\n",
       "   'label': 'ignore'},\n",
       "  {'instanceId': 0,\n",
       "   'bbox': [188, 473, 11, 27],\n",
       "   'bboxVis': [188, 473, 11, 27],\n",
       "   'label': 'ignore'},\n",
       "  {'instanceId': 24,\n",
       "   'bbox': [111, 465, 36, 42],\n",
       "   'bboxVis': [0, 0, 0, 0],\n",
       "   'label': 'person group'},\n",
       "  {'instanceId': 24,\n",
       "   'bbox': [245, 395, 108, 111],\n",
       "   'bboxVis': [0, 0, 0, 0],\n",
       "   'label': 'person group'},\n",
       "  {'instanceId': 24,\n",
       "   'bbox': [1713, 360, 61, 85],\n",
       "   'bboxVis': [0, 0, 0, 0],\n",
       "   'label': 'person group'},\n",
       "  {'instanceId': 24,\n",
       "   'bbox': [1778, 376, 121, 216],\n",
       "   'bboxVis': [0, 0, 0, 0],\n",
       "   'label': 'person group'}]}"
      ]
     },
     "execution_count": 31,
     "metadata": {},
     "output_type": "execute_result"
    }
   ],
   "source": [
    "bbox"
   ]
  },
  {
   "cell_type": "code",
   "execution_count": 32,
   "id": "bf91e71d",
   "metadata": {},
   "outputs": [],
   "source": [
    "def grab_objects(bbox_):\n",
    "    objects = bbox_['objects']\n",
    "#     bboxes = [object_['bboxVis'] for object_ in objects if object_['label']!='ignore']\n",
    "    bboxes = [object_['bboxVis'] for object_ in objects]\n",
    "    return np.array(bboxes)"
   ]
  },
  {
   "cell_type": "code",
   "execution_count": 33,
   "id": "45ca4fba",
   "metadata": {},
   "outputs": [],
   "source": [
    "coordinates = grab_objects(bbox)"
   ]
  },
  {
   "cell_type": "code",
   "execution_count": 34,
   "id": "9a7d81c6",
   "metadata": {},
   "outputs": [],
   "source": [
    "def get_coordinates(coords):\n",
    "    coords_=coords\n",
    "    for coord in coords_:\n",
    "        x,y,w,h = coord\n",
    "        coord[2] = x + w \n",
    "        coord[3] = y + h\n",
    "    return coords_\n",
    "            "
   ]
  },
  {
   "cell_type": "code",
   "execution_count": 35,
   "id": "7a0f97c8",
   "metadata": {},
   "outputs": [],
   "source": [
    "coord = get_coordinates(coordinates)"
   ]
  },
  {
   "cell_type": "code",
   "execution_count": 36,
   "id": "8fbc2009",
   "metadata": {},
   "outputs": [
    {
     "data": {
      "text/plain": [
       "array([[ 934,  408,  960,  531],\n",
       "       [ 941,  411,  981,  533],\n",
       "       [ 986,  426, 1026,  525],\n",
       "       [1010,  399, 1057,  538],\n",
       "       [1145,  403, 1184,  514],\n",
       "       [1111,  403, 1159,  531],\n",
       "       [1204,  397, 1244,  528],\n",
       "       [1186,  407, 1227,  530],\n",
       "       [1448,  375, 1476,  539],\n",
       "       [1306,  406, 1352,  523],\n",
       "       [1862,  415, 1900,  489],\n",
       "       [1534,  377, 1581,  489],\n",
       "       [ 453,  417,  509,  551],\n",
       "       [ 415,  407,  439,  484],\n",
       "       [ 856,  391,  921,  551],\n",
       "       [1512,  381, 1527,  402],\n",
       "       [ 188,  473,  199,  500],\n",
       "       [   0,    0,    0,    0],\n",
       "       [   0,    0,    0,    0],\n",
       "       [   0,    0,    0,    0],\n",
       "       [   0,    0,    0,    0]])"
      ]
     },
     "execution_count": 36,
     "metadata": {},
     "output_type": "execute_result"
    }
   ],
   "source": [
    "coord"
   ]
  },
  {
   "cell_type": "code",
   "execution_count": 37,
   "id": "4feaa76e",
   "metadata": {},
   "outputs": [],
   "source": [
    "def draw_bbox(coordinates,img_, save = True):\n",
    "    for coord in coordinates:\n",
    "        x0,y0,x1,y1 = coord\n",
    "        start_point = (int(x0), int(y0))\n",
    "        end_point = (int(x1), int(y1))\n",
    "        image = cv2.rectangle(img, start_point, end_point, color=(0,255,0), thickness=2)\n",
    "    if cv2.imwrite(\"example_with_bounding_boxes_.jpg\", image):\n",
    "        print('Bounding boxes added successfully')\n",
    "        "
   ]
  },
  {
   "cell_type": "code",
   "execution_count": 38,
   "id": "b24deb48",
   "metadata": {},
   "outputs": [
    {
     "name": "stdout",
     "output_type": "stream",
     "text": [
      "Bounding boxes added successfully\n"
     ]
    }
   ],
   "source": [
    "draw_bbox(coord,img)"
   ]
  },
  {
   "cell_type": "code",
   "execution_count": 21,
   "id": "e7cf2e9b",
   "metadata": {},
   "outputs": [],
   "source": [
    "objects = bbox['objects']\n",
    "objects2 = objects[2]"
   ]
  },
  {
   "cell_type": "code",
   "execution_count": 22,
   "id": "42896b54",
   "metadata": {},
   "outputs": [
    {
     "data": {
      "text/plain": [
       "[986, 426, 40, 99]"
      ]
     },
     "execution_count": 22,
     "metadata": {},
     "output_type": "execute_result"
    }
   ],
   "source": [
    "objects2 = objects2['bbox']\n",
    "objects2"
   ]
  },
  {
   "cell_type": "code",
   "execution_count": 23,
   "id": "b9674008",
   "metadata": {},
   "outputs": [],
   "source": [
    "x,y,w,h = objects2"
   ]
  },
  {
   "cell_type": "code",
   "execution_count": 24,
   "id": "528fffac",
   "metadata": {},
   "outputs": [],
   "source": [
    "x_scale = 512/2048\n",
    "y_scale = 256/1024"
   ]
  },
  {
   "cell_type": "code",
   "execution_count": 25,
   "id": "33bac7d6",
   "metadata": {},
   "outputs": [],
   "source": [
    "x0 = x * x_scale\n",
    "x1 = (x + w) * x_scale\n",
    "y0 = y * y_scale\n",
    "y1 = (y + h ) * y_scale"
   ]
  },
  {
   "cell_type": "code",
   "execution_count": 26,
   "id": "4aec213f",
   "metadata": {},
   "outputs": [],
   "source": [
    "start_point = (int(x0), int(y0))\n",
    "end_point = (int(x1), int(y1))"
   ]
  },
  {
   "cell_type": "code",
   "execution_count": 27,
   "id": "24ff3042",
   "metadata": {},
   "outputs": [],
   "source": [
    "image = cv2.rectangle(mod_img, start_point, end_point, color=(0,255,0), thickness=2)"
   ]
  },
  {
   "cell_type": "code",
   "execution_count": 28,
   "id": "2643b898",
   "metadata": {},
   "outputs": [
    {
     "data": {
      "text/plain": [
       "True"
      ]
     },
     "execution_count": 28,
     "metadata": {},
     "output_type": "execute_result"
    }
   ],
   "source": [
    "cv2.imwrite(\"example_with_bounding_boxes3.jpg\", image)"
   ]
  }
 ],
 "metadata": {
  "kernelspec": {
   "display_name": "Python 3 (ipykernel)",
   "language": "python",
   "name": "python3"
  },
  "language_info": {
   "codemirror_mode": {
    "name": "ipython",
    "version": 3
   },
   "file_extension": ".py",
   "mimetype": "text/x-python",
   "name": "python",
   "nbconvert_exporter": "python",
   "pygments_lexer": "ipython3",
   "version": "3.10.10"
  }
 },
 "nbformat": 4,
 "nbformat_minor": 5
}
