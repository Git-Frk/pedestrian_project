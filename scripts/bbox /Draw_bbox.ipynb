{
 "cells": [
  {
   "cell_type": "code",
   "execution_count": 8,
   "id": "f2bebfdb",
   "metadata": {},
   "outputs": [],
   "source": [
    "import cv2\n",
    "import json\n",
    "import numpy as np"
   ]
  },
  {
   "cell_type": "code",
   "execution_count": 9,
   "id": "7f8bc766",
   "metadata": {},
   "outputs": [],
   "source": [
    "class Bbox_gen:\n",
    "    def __init__(self,json,image):\n",
    "        self._img = self._open_image(image)\n",
    "        self._annotations = self._grab_annotations(json)\n",
    "        self._imagex = self._img.shape[1]\n",
    "        self._imagey = self._img.shape[0]\n",
    "        self._ped_instances = None\n",
    "        self._grab_bboxes()\n",
    "        \n",
    "    def _grab_annotations(self,json_file):\n",
    "        with open(json_file) as annotations:\n",
    "            bbox = json.load(annotations)\n",
    "        return bbox\n",
    "    \n",
    "    def _open_image(self,image_path):\n",
    "        img = cv2.imread(image_path)        \n",
    "        return img\n",
    "    \n",
    "    def get_annotations(self):\n",
    "        return self._annotations\n",
    "    \n",
    "    def get_image(self):\n",
    "        return self._img\n",
    "    \n",
    "    def get_ped_number(self):\n",
    "        return self._ped_instances\n",
    "    \n",
    "    def _grab_bboxes(self):\n",
    "        objects = self.get_annotations()['objects']\n",
    "        bboxes = [object_['bbox'] for object_ in objects if object_['label']!='ignore']\n",
    "        self._ped_instances = len(bboxes)\n",
    "        return np.array(bboxes)\n",
    "    \n",
    "    def _get_coordinates(self, x_dim = None, y_dim = None, scale = False):\n",
    "        coords_= self._grab_bboxes()\n",
    "        \n",
    "        if scale:\n",
    "            x_scale = self._imagex/x_dim\n",
    "            y_scale = self._imagey/y_dim\n",
    "            \n",
    "        for coord in coords_:\n",
    "            x,y,w,h = coord\n",
    "            if scale:\n",
    "                coord[0] = x * x_scale\n",
    "                coord[1] = y * y_scale\n",
    "                coord[2] = (x + w) * x_scale\n",
    "                coord[3] = (y + h ) * y_scale\n",
    "            else:    \n",
    "                coord[2] = x + w \n",
    "                coord[3] = y + h\n",
    "        return coords_\n",
    "        \n",
    "    def draw_bboxes(self,image_path,x_dim = None, y_dim = None, scale = False):\n",
    "        coordinates = self._get_coordinates(x_dim, y_dim, scale)\n",
    "        for coord in coordinates:\n",
    "            x0,y0,x1,y1 = coord\n",
    "            start_point = (int(x0), int(y0))\n",
    "            end_point = (int(x1), int(y1))\n",
    "            image = cv2.rectangle(self._img, start_point, end_point, color=(0,255,0), thickness=2)\n",
    "        if cv2.imwrite(image_path, image):\n",
    "            print('Bounding boxes added successfully')\n",
    "        else:\n",
    "            print('There was error, bounding boxes were not added to the image')"
   ]
  },
  {
   "cell_type": "code",
   "execution_count": 10,
   "id": "533d6a8a",
   "metadata": {
    "scrolled": true
   },
   "outputs": [],
   "source": [
    "img1 = Bbox_gen('Files/stuttgart_000169_000019_gtBboxCityPersons.json','Files/stuttgart_000169_000019_leftImg8bit.png')"
   ]
  },
  {
   "cell_type": "code",
   "execution_count": 4,
   "id": "53a41c5a",
   "metadata": {},
   "outputs": [
    {
     "data": {
      "text/plain": [
       "10"
      ]
     },
     "execution_count": 4,
     "metadata": {},
     "output_type": "execute_result"
    }
   ],
   "source": [
    "img1.get_ped_number()"
   ]
  },
  {
   "cell_type": "code",
   "execution_count": 11,
   "id": "e8b00f59",
   "metadata": {},
   "outputs": [
    {
     "name": "stdout",
     "output_type": "stream",
     "text": [
      "Bounding boxes added successfully\n"
     ]
    }
   ],
   "source": [
    "img1.draw_bboxes('Files/bbox_test.jpg')"
   ]
  },
  {
   "cell_type": "code",
   "execution_count": 12,
   "id": "49dd04d9",
   "metadata": {},
   "outputs": [],
   "source": [
    "img2 = Bbox_gen('Files/stuttgart_000169_000019_gtBboxCityPersons.json','Files/download-3.png')"
   ]
  },
  {
   "cell_type": "code",
   "execution_count": 13,
   "id": "bac3d283",
   "metadata": {
    "scrolled": true
   },
   "outputs": [
    {
     "name": "stdout",
     "output_type": "stream",
     "text": [
      "Bounding boxes added successfully\n"
     ]
    }
   ],
   "source": [
    "img2.draw_bboxes('Files/modbbox_test.jpg',2048, 1024, scale = True)"
   ]
  }
 ],
 "metadata": {
  "kernelspec": {
   "display_name": "Python 3 (ipykernel)",
   "language": "python",
   "name": "python3"
  },
  "language_info": {
   "codemirror_mode": {
    "name": "ipython",
    "version": 3
   },
   "file_extension": ".py",
   "mimetype": "text/x-python",
   "name": "python",
   "nbconvert_exporter": "python",
   "pygments_lexer": "ipython3",
   "version": "3.10.10"
  }
 },
 "nbformat": 4,
 "nbformat_minor": 5
}
